{
 "cells": [
  {
   "cell_type": "code",
   "execution_count": 51,
   "metadata": {},
   "outputs": [
    {
     "name": "stdout",
     "output_type": "stream",
     "text": [
      "The area with the highest sum in 2017 is Nigeria with a total sum of 1483268.23.\n"
     ]
    }
   ],
   "source": [
    "import pandas as pd\n",
    "\n",
    "# read it\n",
    "df = pd.read_csv('FoodBalanceSheets_E_Africa_NOFLAG.csv', encoding = 'latin-1' )\n",
    "\n",
    "# select rows\n",
    "selected_df = df[['Area', 'Y2017']]\n",
    "\n",
    "# sum per year\n",
    "area_sums = selected_df['Y2017'].groupby(selected_df['Area']).sum()\n",
    "\n",
    "# hihest point sum\n",
    "highest_sum = area_sums.max()\n",
    "highest_area = area_sums[area_sums == highest_sum].index[0]\n",
    "\n",
    "print(f'The area with the highest sum in 2017 is {highest_area} with a total sum of {highest_sum}.')\n"
   ]
  },
  {
   "cell_type": "code",
   "execution_count": 52,
   "metadata": {},
   "outputs": [
    {
     "name": "stdout",
     "output_type": "stream",
     "text": [
      "sum = 1589\n",
      "Percentage = 2.607\n"
     ]
    }
   ],
   "source": [
    "#Total number and percentage of missing data in 2014\n",
    "n_sum = df['Y2014'].isnull().sum()\n",
    "per = (int(n_sum)/len(df['Y2014']))* 100\n",
    "print(f'sum = {n_sum}\\nPercentage = {round(per, 3)}')"
   ]
  },
  {
   "cell_type": "code",
   "execution_count": 56,
   "metadata": {},
   "outputs": [
    {
     "data": {
      "text/html": [
       "<div>\n",
       "<style scoped>\n",
       "    .dataframe tbody tr th:only-of-type {\n",
       "        vertical-align: middle;\n",
       "    }\n",
       "\n",
       "    .dataframe tbody tr th {\n",
       "        vertical-align: top;\n",
       "    }\n",
       "\n",
       "    .dataframe thead th {\n",
       "        text-align: right;\n",
       "    }\n",
       "</style>\n",
       "<table border=\"1\" class=\"dataframe\">\n",
       "  <thead>\n",
       "    <tr style=\"text-align: right;\">\n",
       "      <th></th>\n",
       "      <th>Area Code</th>\n",
       "      <th>Item Code</th>\n",
       "      <th>Element Code</th>\n",
       "      <th>Y2014</th>\n",
       "      <th>Y2015</th>\n",
       "      <th>Y2016</th>\n",
       "      <th>Y2017</th>\n",
       "      <th>Y2018</th>\n",
       "    </tr>\n",
       "  </thead>\n",
       "  <tbody>\n",
       "    <tr>\n",
       "      <th>count</th>\n",
       "      <td>60943.000000</td>\n",
       "      <td>60943.000000</td>\n",
       "      <td>60943.000000</td>\n",
       "      <td>59354.000000</td>\n",
       "      <td>59395.000000</td>\n",
       "      <td>59408.000000</td>\n",
       "      <td>59437.000000</td>\n",
       "      <td>59507.000000</td>\n",
       "    </tr>\n",
       "    <tr>\n",
       "      <th>mean</th>\n",
       "      <td>134.265576</td>\n",
       "      <td>2687.176706</td>\n",
       "      <td>3814.856456</td>\n",
       "      <td>134.196282</td>\n",
       "      <td>135.235966</td>\n",
       "      <td>136.555222</td>\n",
       "      <td>140.917765</td>\n",
       "      <td>143.758381</td>\n",
       "    </tr>\n",
       "    <tr>\n",
       "      <th>std</th>\n",
       "      <td>72.605709</td>\n",
       "      <td>146.055739</td>\n",
       "      <td>2212.007033</td>\n",
       "      <td>1567.663696</td>\n",
       "      <td>1603.403984</td>\n",
       "      <td>1640.007194</td>\n",
       "      <td>1671.862359</td>\n",
       "      <td>1710.782658</td>\n",
       "    </tr>\n",
       "    <tr>\n",
       "      <th>min</th>\n",
       "      <td>4.000000</td>\n",
       "      <td>2501.000000</td>\n",
       "      <td>511.000000</td>\n",
       "      <td>-1796.000000</td>\n",
       "      <td>-3161.000000</td>\n",
       "      <td>-3225.000000</td>\n",
       "      <td>-1582.000000</td>\n",
       "      <td>-3396.000000</td>\n",
       "    </tr>\n",
       "    <tr>\n",
       "      <th>25%</th>\n",
       "      <td>74.000000</td>\n",
       "      <td>2562.000000</td>\n",
       "      <td>684.000000</td>\n",
       "      <td>0.000000</td>\n",
       "      <td>0.000000</td>\n",
       "      <td>0.000000</td>\n",
       "      <td>0.000000</td>\n",
       "      <td>0.000000</td>\n",
       "    </tr>\n",
       "    <tr>\n",
       "      <th>50%</th>\n",
       "      <td>136.000000</td>\n",
       "      <td>2630.000000</td>\n",
       "      <td>5142.000000</td>\n",
       "      <td>0.090000</td>\n",
       "      <td>0.080000</td>\n",
       "      <td>0.080000</td>\n",
       "      <td>0.100000</td>\n",
       "      <td>0.070000</td>\n",
       "    </tr>\n",
       "    <tr>\n",
       "      <th>75%</th>\n",
       "      <td>195.000000</td>\n",
       "      <td>2775.000000</td>\n",
       "      <td>5511.000000</td>\n",
       "      <td>8.340000</td>\n",
       "      <td>8.460000</td>\n",
       "      <td>8.430000</td>\n",
       "      <td>9.000000</td>\n",
       "      <td>9.000000</td>\n",
       "    </tr>\n",
       "    <tr>\n",
       "      <th>max</th>\n",
       "      <td>276.000000</td>\n",
       "      <td>2961.000000</td>\n",
       "      <td>5911.000000</td>\n",
       "      <td>176405.000000</td>\n",
       "      <td>181137.000000</td>\n",
       "      <td>185960.000000</td>\n",
       "      <td>190873.000000</td>\n",
       "      <td>195875.000000</td>\n",
       "    </tr>\n",
       "  </tbody>\n",
       "</table>\n",
       "</div>"
      ],
      "text/plain": [
       "          Area Code     Item Code  Element Code          Y2014          Y2015  \\\n",
       "count  60943.000000  60943.000000  60943.000000   59354.000000   59395.000000   \n",
       "mean     134.265576   2687.176706   3814.856456     134.196282     135.235966   \n",
       "std       72.605709    146.055739   2212.007033    1567.663696    1603.403984   \n",
       "min        4.000000   2501.000000    511.000000   -1796.000000   -3161.000000   \n",
       "25%       74.000000   2562.000000    684.000000       0.000000       0.000000   \n",
       "50%      136.000000   2630.000000   5142.000000       0.090000       0.080000   \n",
       "75%      195.000000   2775.000000   5511.000000       8.340000       8.460000   \n",
       "max      276.000000   2961.000000   5911.000000  176405.000000  181137.000000   \n",
       "\n",
       "               Y2016          Y2017          Y2018  \n",
       "count   59408.000000   59437.000000   59507.000000  \n",
       "mean      136.555222     140.917765     143.758381  \n",
       "std      1640.007194    1671.862359    1710.782658  \n",
       "min     -3225.000000   -1582.000000   -3396.000000  \n",
       "25%         0.000000       0.000000       0.000000  \n",
       "50%         0.080000       0.100000       0.070000  \n",
       "75%         8.430000       9.000000       9.000000  \n",
       "max    185960.000000  190873.000000  195875.000000  "
      ]
     },
     "execution_count": 56,
     "metadata": {},
     "output_type": "execute_result"
    }
   ],
   "source": [
    "import pandas as pd\n",
    "\n",
    "# Load the CSV file into a Pandas DataFrame\n",
    "df = pd.read_csv('FoodBalanceSheets_E_Africa_NOFLAG.csv', encoding = 'latin-1' )\n",
    "\n",
    "df.describe()"
   ]
  },
  {
   "cell_type": "code",
   "execution_count": 57,
   "metadata": {},
   "outputs": [
    {
     "name": "stdout",
     "output_type": "stream",
     "text": [
      "The total protien supply supply quantity in Madagascar in 2015 is : 173.04999999999998\n"
     ]
    }
   ],
   "source": [
    "condition = (df['Area'] == 'Madagascar') & (df['Element'] == 'Protein supply quantity (g/capita/day)')\n",
    "supply = df.loc[condition, 'Y2015'].sum()\n",
    "print(f'The total protien supply supply quantity in Madagascar in 2015 is : {supply}')"
   ]
  },
  {
   "cell_type": "code",
   "execution_count": null,
   "metadata": {},
   "outputs": [
    {
     "name": "stdout",
     "output_type": "stream",
     "text": [
      "Y2014    58749.83\n",
      "Y2015    34910.99\n",
      "Y2016    33140.12\n",
      "Y2017    54316.91\n",
      "Y2018    20577.91\n",
      "dtype: float64\n",
      "the highest value for any year is 58749.83\n"
     ]
    }
   ],
   "source": [
    "#year with the highest sum of stock variation\n",
    "df_y = df.groupby('Element')\n",
    "for x,y in df_y:\n",
    "    if x == 'Stock Variation':\n",
    "          print(y[['Y2014', 'Y2015', 'Y2016', 'Y2017', 'Y2018']].sum())\n",
    "          whole_df = y[['Y2014', 'Y2015', 'Y2016', 'Y2017', 'Y2018']].sum()\n",
    "          print('the highest value for any year is ' + str(whole_df.max()))"
   ]
  },
  {
   "cell_type": "code",
   "execution_count": null,
   "metadata": {},
   "outputs": [
    {
     "name": "stdout",
     "output_type": "stream",
     "text": [
      "49\n"
     ]
    }
   ],
   "source": [
    "\n",
    "#printing the total number of unique countries \n",
    "df_u = df['Area'].unique()\n",
    "print(len(df_u))"
   ]
  },
  {
   "cell_type": "code",
   "execution_count": null,
   "metadata": {},
   "outputs": [
    {
     "name": "stdout",
     "output_type": "stream",
     "text": [
      "Area\n",
      "Sudan (former)                       0.00\n",
      "Ethiopia PDR                         0.00\n",
      "Comoros                             59.84\n",
      "Seychelles                         442.34\n",
      "Sao Tome and Principe            12662.63\n",
      "Cabo Verde                       14650.74\n",
      "Guinea-Bissau                    19102.77\n",
      "Lesotho                          21267.96\n",
      "Botswana                         22101.30\n",
      "Djibouti                         22729.91\n",
      "Gambia                           23154.18\n",
      "Gabon                            27979.64\n",
      "Liberia                          29342.20\n",
      "Namibia                          29874.89\n",
      "Central African Republic         29937.00\n",
      "Congo                            41181.68\n",
      "Togo                             49841.88\n",
      "Mauritius                        51114.83\n",
      "Eswatini                         54343.33\n",
      "Sierra Leone                     55311.33\n",
      "Chad                             71594.68\n",
      "Rwanda                           73663.69\n",
      "Zimbabwe                         75919.34\n",
      "Senegal                          95681.15\n",
      "Guinea                           98138.87\n",
      "Burkina Faso                    101855.07\n",
      "Zambia                          103223.77\n",
      "Tunisia                         124167.20\n",
      "Benin                           124771.22\n",
      "Niger                           126707.58\n",
      "Madagascar                      131197.73\n",
      "Mali                            149928.33\n",
      "Mauritania                      156665.46\n",
      "Mozambique                      161407.98\n",
      "Malawi                          181098.71\n",
      "Uganda                          213950.38\n",
      "Côte d'Ivoire                   224599.01\n",
      "Angola                          229159.57\n",
      "Cameroon                        232030.43\n",
      "Sudan                           239931.92\n",
      "Kenya                           264660.66\n",
      "United Republic of Tanzania     322616.85\n",
      "Algeria                         325644.27\n",
      "Ghana                           337599.06\n",
      "Morocco                         388495.36\n",
      "Ethiopia                        448683.76\n",
      "South Africa                    517590.54\n",
      "Egypt                           866379.92\n",
      "Nigeria                        1483268.23\n",
      "Name: Y2017, dtype: float64\n"
     ]
    }
   ],
   "source": [
    "#finding the country with the 7th lowest  sum in 2017\n",
    "s_df = df[['Y2017', 'Area']]\n",
    "grouped = s_df.groupby('Area')\n",
    "sum_Y2017 = grouped['Y2017'].sum()\n",
    "sum_Y2017 = sum_Y2017.sort_values()\n",
    "print(sum_Y2017)"
   ]
  },
  {
   "cell_type": "code",
   "execution_count": null,
   "metadata": {},
   "outputs": [
    {
     "name": "stdout",
     "output_type": "stream",
     "text": [
      "292836.0\n"
     ]
    }
   ],
   "source": [
    "#sum of processing in Y2017\n",
    "df_y = df.groupby('Element')\n",
    "for x,y in df_y:\n",
    "    if x == 'Processing':\n",
    "        print(y['Y2017'].sum())"
   ]
  },
  {
   "cell_type": "code",
   "execution_count": null,
   "metadata": {},
   "outputs": [
    {
     "name": "stdout",
     "output_type": "stream",
     "text": [
      "Y2015    4251.81\n",
      "Y2018    4039.32\n",
      "dtype: float64\n"
     ]
    }
   ],
   "source": [
    "#The sum of wine produced in 2015 and 2018\n",
    "df_i = df.groupby(\"Item\")\n",
    "for x,y in df_i:\n",
    "    if x == 'Wine':\n",
    "        print(y[['Y2015','Y2018']].sum())"
   ]
  }
 ],
 "metadata": {
  "kernelspec": {
   "display_name": "Python 3",
   "language": "python",
   "name": "python3"
  },
  "language_info": {
   "codemirror_mode": {
    "name": "ipython",
    "version": 3
   },
   "file_extension": ".py",
   "mimetype": "text/x-python",
   "name": "python",
   "nbconvert_exporter": "python",
   "pygments_lexer": "ipython3",
   "version": "3.11.4"
  }
 },
 "nbformat": 4,
 "nbformat_minor": 2
}
